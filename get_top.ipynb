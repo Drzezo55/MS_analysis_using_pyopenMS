{
 "cells": [
  {
   "cell_type": "code",
   "execution_count": 1,
   "id": "d0d7e31e",
   "metadata": {},
   "outputs": [
    {
     "name": "stderr",
     "output_type": "stream",
     "text": [
      "Determination of memory status is not supported on this \n",
      " platform, measuring for memoryleaks will never fail\n"
     ]
    },
    {
     "name": "stdout",
     "output_type": "stream",
     "text": [
      "Top 10 highly expressed proteins:\n",
      "sp|Q9NUQ6|SPS2L_HUMAN: 7498565330.984375\n",
      "sp|P04350|TBB4A_HUMAN: 7498565330.984375\n",
      "sp|P01009|A1AT_HUMAN: 7498565330.984375\n",
      "DECOY_sp|P11215|ITAM_HUMAN: 7498565330.984375\n",
      "DECOY_sp|P15408|FOSL2_HUMAN: 7498565330.984375\n",
      "sp|P26373|RL13_HUMAN: 7498565330.984375\n",
      "sp|Q08AH3|ACS2A_HUMAN: 7498565330.984375\n",
      "DECOY_sp|P26358|DNMT1_HUMAN: 7498565330.984375\n",
      "sp|Q96CM8|ACSF2_HUMAN: 7498565330.984375\n",
      "sp|Q58FF8|H90B2_HUMAN: 7498565330.984375\n"
     ]
    }
   ],
   "source": [
    "import pyopenms as oms\n",
    "from collections import defaultdict\n",
    "\n",
    "# Load protein and peptide IDs\n",
    "protein_ids = []\n",
    "peptide_ids = []\n",
    "oms.IdXMLFile().load(\"output.idXML\", protein_ids, peptide_ids)\n",
    "\n",
    "# Load quantified feature map with peptide identifications annotated\n",
    "feature_map = oms.FeatureMap()\n",
    "oms.FeatureXMLFile().load(\"data_annotated.featureXML\", feature_map)\n",
    "\n",
    "# Build mapping: peptide sequence -> list of protein accessions\n",
    "pep_to_proteins = defaultdict(set)\n",
    "for prot_id in protein_ids:\n",
    "    for hit in prot_id.getHits():\n",
    "        accession = hit.getAccession()\n",
    "        for pep_id in peptide_ids:\n",
    "            for hit_pep in pep_id.getHits():\n",
    "                pep_seq = hit_pep.getSequence().toString()\n",
    "                # You may want to refine this mapping to be peptide-specific\n",
    "                pep_to_proteins[pep_seq].add(accession)\n",
    "\n",
    "# Aggregate intensities per protein\n",
    "protein_intensity = defaultdict(float)\n",
    "\n",
    "for feature in feature_map:\n",
    "    peptide_ids = feature.getPeptideIdentifications()\n",
    "    if not peptide_ids:\n",
    "        continue\n",
    "    for pep_id in peptide_ids:\n",
    "        for hit in pep_id.getHits():\n",
    "            pep_seq = hit.getSequence().toString()\n",
    "            intensity = feature.getIntensity()\n",
    "            # Add intensity to all proteins linked to this peptide\n",
    "            for prot_acc in pep_to_proteins.get(pep_seq, []):\n",
    "                protein_intensity[prot_acc] += intensity\n",
    "\n",
    "# Sort proteins by intensity descending\n",
    "sorted_proteins = sorted(protein_intensity.items(), key=lambda x: x[1], reverse=True)\n",
    "\n",
    "# Print top 10 highly expressed proteins\n",
    "print(\"Top 10 highly expressed proteins:\")\n",
    "for prot, inten in sorted_proteins[:10]:\n",
    "    print(f\"{prot}: {inten}\")\n"
   ]
  },
  {
   "cell_type": "code",
   "execution_count": 2,
   "id": "ce64fe73",
   "metadata": {},
   "outputs": [
    {
     "name": "stdout",
     "output_type": "stream",
     "text": [
      "Top 10 real proteins:\n",
      "sp|Q9NUQ6|SPS2L_HUMAN: 7498565330.984375\n",
      "sp|P04350|TBB4A_HUMAN: 7498565330.984375\n",
      "sp|P01009|A1AT_HUMAN: 7498565330.984375\n",
      "sp|P26373|RL13_HUMAN: 7498565330.984375\n",
      "sp|Q08AH3|ACS2A_HUMAN: 7498565330.984375\n",
      "sp|Q96CM8|ACSF2_HUMAN: 7498565330.984375\n",
      "sp|Q58FF8|H90B2_HUMAN: 7498565330.984375\n",
      "sp|Q86X83|COMD2_HUMAN: 7498565330.984375\n",
      "sp|P0C7V6|SP202_HUMAN: 7498565330.984375\n",
      "sp|Q5T7N8|F27D1_HUMAN: 7498565330.984375\n"
     ]
    }
   ],
   "source": [
    "filtered_proteins = [(prot, inten) for prot, inten in sorted_proteins if not prot.startswith(\"DECOY\")]\n",
    "print(\"Top 10 real proteins:\")\n",
    "for prot, inten in filtered_proteins[:10]:\n",
    "    print(f\"{prot}: {inten}\")\n"
   ]
  }
 ],
 "metadata": {
  "kernelspec": {
   "display_name": "pyopenms-env",
   "language": "python",
   "name": "python3"
  },
  "language_info": {
   "codemirror_mode": {
    "name": "ipython",
    "version": 3
   },
   "file_extension": ".py",
   "mimetype": "text/x-python",
   "name": "python",
   "nbconvert_exporter": "python",
   "pygments_lexer": "ipython3",
   "version": "3.10.18"
  }
 },
 "nbformat": 4,
 "nbformat_minor": 5
}
